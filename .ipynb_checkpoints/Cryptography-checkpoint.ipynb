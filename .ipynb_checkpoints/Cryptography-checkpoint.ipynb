{
 "cells": [
  {
   "cell_type": "markdown",
   "id": "88a1c3c8",
   "metadata": {},
   "source": [
    "#  General calculator in case of emergency\n",
    "https://www.wolframalpha.com/"
   ]
  },
  {
   "cell_type": "markdown",
   "id": "d958ff52",
   "metadata": {},
   "source": [
    "# Euclidov algoritm"
   ]
  },
  {
   "cell_type": "code",
   "execution_count": 2,
   "id": "409fdf43",
   "metadata": {},
   "outputs": [],
   "source": [
    "def gcd(a, b):\n",
    "    if a == 0:\n",
    "        return b\n",
    "    return gcd(b % a, a)\n",
    "\n"
   ]
  },
  {
   "cell_type": "code",
   "execution_count": 3,
   "id": "0ee58f7a",
   "metadata": {},
   "outputs": [
    {
     "data": {
      "text/plain": [
       "20"
      ]
     },
     "execution_count": 3,
     "metadata": {},
     "output_type": "execute_result"
    }
   ],
   "source": [
    "gcd(39540, 8500)"
   ]
  },
  {
   "cell_type": "markdown",
   "id": "bc351fca",
   "metadata": {},
   "source": [
    "# Extended Euclidov algoritm"
   ]
  },
  {
   "cell_type": "code",
   "execution_count": 4,
   "id": "bdc96854",
   "metadata": {},
   "outputs": [
    {
     "name": "stdout",
     "output_type": "stream",
     "text": [
      "gcd( 127 , 13 ) =  1\n",
      "1 = a:127 * x:4 + b:13 * y:-39\n"
     ]
    }
   ],
   "source": [
    "\n",
    "def gcdExtended(a, b):\n",
    "    if a == 0 : \n",
    "        return b, 0, 1\n",
    "            \n",
    "    gcd, x1, y1 = gcdExtended(b%a, a)\n",
    "\n",
    "    x = y1 - (b//a) * x1\n",
    "    y = x1\n",
    "    \n",
    "    return gcd, x, y\n",
    "     \n",
    " \n",
    "# Driver code\n",
    "a, b = 127 , 13\n",
    "g, x, y = gcdExtended(a, b)\n",
    "print(\"gcd(\", a , \",\" , b, \") = \", g)\n",
    "print(f\"{g} = a:{a} * x:{x} + b:{b} * y:{y}\")\n"
   ]
  },
  {
   "cell_type": "code",
   "execution_count": null,
   "id": "e1b3df2f",
   "metadata": {},
   "outputs": [],
   "source": []
  },
  {
   "cell_type": "markdown",
   "id": "ae93e75d",
   "metadata": {},
   "source": [
    "# Multiplikativní inverzní prvek\n"
   ]
  },
  {
   "cell_type": "markdown",
   "id": "f1429acd",
   "metadata": {},
   "source": [
    "https://www.extendedeuclideanalgorithm.com/calculator.php"
   ]
  },
  {
   "cell_type": "code",
   "execution_count": null,
   "id": "6a99981e",
   "metadata": {},
   "outputs": [],
   "source": [
    "#gcd(nsd) musi byt 1"
   ]
  },
  {
   "cell_type": "markdown",
   "id": "ce8ba738",
   "metadata": {},
   "source": [
    "# Rychlé modulární umocňování\n"
   ]
  },
  {
   "cell_type": "code",
   "execution_count": 5,
   "id": "4ff30fb4",
   "metadata": {},
   "outputs": [
    {
     "data": {
      "text/plain": [
       "87"
      ]
     },
     "execution_count": 5,
     "metadata": {},
     "output_type": "execute_result"
    }
   ],
   "source": [
    "#x:5^y:6 % z:13\n",
    "x = 5\n",
    "y = 1900\n",
    "z = 127\n",
    "pow(x, y , z)"
   ]
  },
  {
   "cell_type": "markdown",
   "id": "6e2d99e9",
   "metadata": {},
   "source": [
    "# GF\n",
    "## Documentation -> https://galois.readthedocs.io/en/v0.0.26/index.html"
   ]
  },
  {
   "cell_type": "code",
   "execution_count": 6,
   "id": "014db08e",
   "metadata": {},
   "outputs": [],
   "source": [
    "import galois\n",
    "import math\n",
    "#pip install galois"
   ]
  },
  {
   "cell_type": "code",
   "execution_count": 7,
   "id": "6b169558",
   "metadata": {},
   "outputs": [],
   "source": [
    "GF = galois.GF(2**100) ##GF(2^N)\n",
    "#print(GF)"
   ]
  },
  {
   "cell_type": "code",
   "execution_count": 8,
   "id": "c7376a04",
   "metadata": {},
   "outputs": [
    {
     "data": {
      "text/plain": [
       "Poly(x^10 + x^6 + x^5 + x^3 + x^2 + x + 1, GF(2^100))"
      ]
     },
     "execution_count": 8,
     "metadata": {},
     "output_type": "execute_result"
    }
   ],
   "source": [
    "#g = galois.Poly([1,0,1,1,1,0,0,1,1,0,0], field=GF)\n",
    "g = galois.Poly.Str(\"x^10+x^6+x^5+x^3+x^2+x+1\",field=GF)\n",
    "g"
   ]
  },
  {
   "cell_type": "code",
   "execution_count": 9,
   "id": "151e1199",
   "metadata": {},
   "outputs": [
    {
     "data": {
      "text/plain": [
       "Poly(x^7 + x^5 + x^3 + x^2 + x + 1, GF(2^100))"
      ]
     },
     "execution_count": 9,
     "metadata": {},
     "output_type": "execute_result"
    }
   ],
   "source": [
    "#mod = galois.Poly([1,1,0,0,1,0,1,0], field=GF)\n",
    "mod = galois.Poly.Str(\"x^7+x^5+x^3+x^2+x+1\",field=GF)\n",
    "mod"
   ]
  },
  {
   "cell_type": "code",
   "execution_count": 10,
   "id": "660f1931",
   "metadata": {},
   "outputs": [
    {
     "data": {
      "text/plain": [
       "Poly(x^6 + x^3 + 1, GF(2^100))"
      ]
     },
     "execution_count": 10,
     "metadata": {},
     "output_type": "execute_result"
    }
   ],
   "source": [
    "g%mod"
   ]
  },
  {
   "cell_type": "code",
   "execution_count": 14,
   "id": "cd4d4473",
   "metadata": {},
   "outputs": [
    {
     "data": {
      "text/plain": [
       "GF([ 3, 11, 12, 13, 17, 21, 22, 24], order=31)"
      ]
     },
     "execution_count": 14,
     "metadata": {},
     "output_type": "execute_result"
    }
   ],
   "source": [
    "#Zjistěte všechny generátory multiplikativní grupy GF(31) ?\n",
    "galois.GF(31).primitive_elements"
   ]
  },
  {
   "cell_type": "markdown",
   "id": "49b53a30",
   "metadata": {},
   "source": [
    "#### B_BI_2021_C04_slide_13 \n"
   ]
  },
  {
   "cell_type": "code",
   "execution_count": 11,
   "id": "9eaaeb71",
   "metadata": {},
   "outputs": [
    {
     "name": "stdout",
     "output_type": "stream",
     "text": [
      "Galois Field:\n",
      "  name: GF(2^3)\n",
      "  characteristic: 2\n",
      "  degree: 3\n",
      "  order: 8\n",
      "  irreducible_poly: x^3 + x + 1\n",
      "  is_primitive_poly: True\n",
      "  primitive_element: x\n"
     ]
    }
   ],
   "source": [
    "GF = galois.GF(2**3)\n",
    "print(GF)"
   ]
  },
  {
   "cell_type": "code",
   "execution_count": 12,
   "id": "a510474b",
   "metadata": {},
   "outputs": [
    {
     "data": {
      "text/plain": [
       "Poly(x^3 + x + 1, GF(2^3))"
      ]
     },
     "execution_count": 12,
     "metadata": {},
     "output_type": "execute_result"
    }
   ],
   "source": [
    "g = galois.Poly.Str(\"x\", field=GF)\n",
    "mod = galois.Poly.Str(\"x^3 + x+ 1\", field= GF)\n",
    "mod\n"
   ]
  },
  {
   "cell_type": "code",
   "execution_count": 15,
   "id": "71b40b7f",
   "metadata": {},
   "outputs": [
    {
     "name": "stdout",
     "output_type": "stream",
     "text": [
      "g_0:1\n",
      "g_1:x\n",
      "g_2:x^2\n",
      "g_3:x + 1\n",
      "g_4:x^2 + x\n",
      "g_5:x^2 + x + 1\n",
      "g_6:x^2 + 1\n",
      "g_7:1\n",
      "g_8:x\n",
      "g_9:x^2\n",
      "g_10:x + 1\n",
      "g_11:x^2 + x\n",
      "g_12:x^2 + x + 1\n",
      "g_13:x^2 + 1\n",
      "g_14:1\n",
      "g_15:x\n",
      "g_16:x^2\n",
      "g_17:x + 1\n",
      "g_18:x^2 + x\n",
      "g_19:x^2 + x + 1\n",
      "g_20:x^2 + 1\n",
      "g_21:1\n",
      "g_22:x\n",
      "g_23:x^2\n",
      "g_24:x + 1\n",
      "g_25:x^2 + x\n",
      "g_26:x^2 + x + 1\n",
      "g_27:x^2 + 1\n",
      "g_28:1\n",
      "g_29:x\n",
      "g_30:x^2\n"
     ]
    }
   ],
   "source": [
    "for i in range(2**3):\n",
    "    print(f\"g_{i}:{(g**i)%mod}\")"
   ]
  },
  {
   "cell_type": "markdown",
   "id": "ddc86839",
   "metadata": {},
   "source": [
    "#### B_BI_2021_C04_slide_15"
   ]
  },
  {
   "cell_type": "code",
   "execution_count": 16,
   "id": "48957485",
   "metadata": {},
   "outputs": [
    {
     "data": {
      "text/plain": [
       "Poly(x^2 + 1, GF(2^3))"
      ]
     },
     "execution_count": 16,
     "metadata": {},
     "output_type": "execute_result"
    }
   ],
   "source": [
    "##1\n",
    "(galois.Poly.Str(\"x^2\", field=GF) * galois.Poly.Str(\"x^2+x\",field=GF)) % mod"
   ]
  },
  {
   "cell_type": "code",
   "execution_count": 17,
   "id": "788d0f99",
   "metadata": {},
   "outputs": [
    {
     "name": "stdout",
     "output_type": "stream",
     "text": [
      "Multiolication:  x + 1\n",
      "(Poly(1, GF(2^3)), Poly(x + 1, GF(2^3)), Poly(1, GF(2^3)))\n"
     ]
    },
    {
     "data": {
      "text/plain": [
       "Poly(x^2, GF(2^3))"
      ]
     },
     "execution_count": 17,
     "metadata": {},
     "output_type": "execute_result"
    }
   ],
   "source": [
    "GF = galois.GF(2**3)\n",
    "mod = galois.Poly.Str(\"x^3 + x+ 1\", field= GF)##ireducibilni polynom\n",
    "a = \"x^2+1\"\n",
    "b = \"x^2+x\"\n",
    "a_poly = galois.Poly.Str(a, field=GF)\n",
    "b_poly = galois.Poly.Str(b,field=GF)\n",
    "result = ( a_poly * b_poly )%mod\n",
    "print(\"Multiplication: \",result)\n",
    "\n",
    "##division - // - nefunguje \n",
    "## rucne - > print(GF.arithmetic_table(\"/\"))\n",
    "##x - vertically y-horizontally \n",
    "b_inv_poly = galois.egcd(b_poly, mod) ##invezni prvek\n",
    "print(b_inv_poly)\n",
    "(a_poly * b_inv_poly[1]) % mod\n"
   ]
  },
  {
   "cell_type": "code",
   "execution_count": null,
   "id": "7afa5b0a",
   "metadata": {
    "scrolled": true
   },
   "outputs": [],
   "source": [
    "##Zjistite vsehny genetaroty multoplikativni grupy pole GF(2**3)\n",
    "GF = galois.GF(2**4)\n",
    "print(GF.irreducible_poly)\n",
    "print(GF.primitive_elements) ## generatory\n",
    "g = galois.Poly.Str(\"x\", field=GF)\n",
    "mod = galois.Poly.Str(\"x^4 + x+ 1\", field= GF) ## check irreducible polynom\n",
    "for i in range(2**4):\n",
    "    print(f\"g_{i}:{(g**i)%mod}\")\n",
    "\n",
    "\n",
    "#GF = galois.GF(29)\n",
    "#print(GF.primitive_elements) #display repr_table\n"
   ]
  },
  {
   "cell_type": "markdown",
   "id": "326b4a3d",
   "metadata": {},
   "source": [
    "#  Ireducibilní trinomiál \n",
    "### trinomial = tri prvka, polynomial = vsecnhy prvky"
   ]
  },
  {
   "cell_type": "code",
   "execution_count": 21,
   "id": "f3ece12a",
   "metadata": {},
   "outputs": [
    {
     "data": {
      "text/plain": [
       "[Poly(x^3 + x + 1, GF(2)), Poly(x^3 + x^2 + 1, GF(2))]"
      ]
     },
     "execution_count": 21,
     "metadata": {},
     "output_type": "execute_result"
    }
   ],
   "source": [
    "#generator = galois.irreducible_polys(2,5);\n",
    "#next(generator)\n",
    "list(galois.irreducible_polys(2, 3))\n",
    "#0,1,4\n"
   ]
  },
  {
   "cell_type": "markdown",
   "id": "98a352f8",
   "metadata": {},
   "source": [
    "#  Unicity distance\n"
   ]
  },
  {
   "cell_type": "markdown",
   "id": "c53af81d",
   "metadata": {},
   "source": [
    "[wiki](https://en.wikipedia.org/wiki/Unicity_distance#:~:text=In%20cryptography%2C%20unicity%20distance%20is,in%20a%20brute%20force%20attack)\n",
    "\n",
    "[practical](http://www.practicalcryptography.com/cryptanalysis/text-characterisation/statistics/)\n",
    "\n",
    "1. pocet vsech klicu\n",
    "2. log(pocet klicu, 2) -> H(k)\n",
    "3. text redundancy -> D (for english = 3.2)\n",
    "4. U = H(k)/D"
   ]
  },
  {
   "cell_type": "code",
   "execution_count": null,
   "id": "f8ccadfb",
   "metadata": {},
   "outputs": [],
   "source": [
    "keys = math.factorial(16)\n",
    "h_k = math.log(keys,2)\n",
    "U=h_k / 3.2\n",
    "U"
   ]
  },
  {
   "cell_type": "code",
   "execution_count": 26,
   "id": "b60bd852",
   "metadata": {},
   "outputs": [
    {
     "data": {
      "text/plain": [
       "64.0"
      ]
     },
     "execution_count": 26,
     "metadata": {},
     "output_type": "execute_result"
    }
   ],
   "source": [
    "import math\n",
    "h_k = 256\n",
    "d = math.log(128 //8, 2)\n",
    "d\n",
    "u = h_k/d\n",
    "u\n"
   ]
  },
  {
   "cell_type": "markdown",
   "id": "ed17f0a3",
   "metadata": {},
   "source": [
    "# Lehmann Peralt test prvociselnsoti\n"
   ]
  },
  {
   "cell_type": "markdown",
   "id": "e325e20b",
   "metadata": {},
   "source": [
    "<div>\n",
    "<img alt=\"P06_slide46\" src=\"lehmann-peralt-test.jpg\" width=500>\n",
    "<img alt=\"excel_matros\"src=\"lehmann-peralt-pravdepodobnost.png\" width=500>\n",
    "</div>"
   ]
  },
  {
   "cell_type": "code",
   "execution_count": 22,
   "id": "fa6f7f42",
   "metadata": {},
   "outputs": [],
   "source": [
    "def isPrimeNumber(n): ##https://www.geeksforgeeks.org/lehmanns-primality-test/\n",
    "    if (n < 2):\n",
    "        return False;\n",
    "    sq = int(math.sqrt(n))\n",
    "    for i in range(2, sq + 1):\n",
    "        if (n % i == 0):\n",
    "            return False\n",
    "    return True\n",
    "# backup- https://www.calculatorsoup.com/calculators/math/prime-number-calculator.php"
   ]
  },
  {
   "cell_type": "code",
   "execution_count": 23,
   "id": "5a581d12",
   "metadata": {},
   "outputs": [
    {
     "name": "stdout",
     "output_type": "stream",
     "text": [
      "False\n",
      "[22100, 1, 18656, 22100, 1, 29029, 12013, 1, 1]\n",
      "[13, 1, 11, 13, 1, 17, 41, 1, 1]\n",
      "Pravdepodobnost:  0.998046875\n"
     ]
    }
   ],
   "source": [
    "## \n",
    "p = 41041 ##39971\n",
    "print(isPrimeNumber(p))\n",
    "a = [13, 267, 891, 1089,2451,15013,28477,31055,33333]##k- pocet cisel\n",
    "b = [13, 277, 891, 1079,2451,15015,28577,31055,38333] \n",
    "d = []\n",
    "d_check = []\n",
    "exp = (p-1)//2\n",
    "for i in b:\n",
    "    d_number = pow(i,exp,p)\n",
    "    d.append(d_number)\n",
    "    d_check.append(galois.egcd(d_number, p)[1])\n",
    "print(d)\n",
    "print(d_check)\n",
    "print(\"Pravdepodobnost: \",1-pow(2,-9)) ##k = 9"
   ]
  },
  {
   "cell_type": "markdown",
   "id": "278bfb86",
   "metadata": {},
   "source": [
    "# Fermatova Faktorizacni Methoda\n",
    "<div>\n",
    "    <img alt=\"P06_slide46\" src=\"fermatova-faktorizacni-metoda.jpg\" width=300\">\n",
    "</div>"
   ]
  },
  {
   "cell_type": "code",
   "execution_count": 35,
   "id": "014af444",
   "metadata": {},
   "outputs": [],
   "source": [
    "from math import ceil, sqrt\n",
    "### +kalkulacku u matrosa\n",
    "def FermatFactors(n): ## https://www.geeksforgeeks.org/fermats-factorization-method/\n",
    "    if(n<= 0):\n",
    "        return [n] \n",
    "    if(n & 1) == 0: \n",
    "        return [n / 2, 2]\n",
    "    a = ceil(sqrt(n))\n",
    "    if(a * a == n):\n",
    "        return [a, a]\n",
    "    while(True):\n",
    "        b1 = a * a - n\n",
    "        b = int(sqrt(b1))\n",
    "        if(b * b == b1):\n",
    "            break\n",
    "        else:\n",
    "            a += 1\n",
    "    return [a-b, a + b]"
   ]
  },
  {
   "cell_type": "code",
   "execution_count": 36,
   "id": "ffa09772",
   "metadata": {
    "scrolled": true
   },
   "outputs": [
    {
     "name": "stdout",
     "output_type": "stream",
     "text": [
      "[4275593, 4284217]\n"
     ]
    }
   ],
   "source": [
    "import math\n",
    "#fermat_numbers = [1679591, 4656523, 82973557, 308142691,341583883,446856997,6062001977,25772068277]\n",
    "fermat_number = 18317568215681#254206150394368\n",
    "print(FermatFactors(fermat_number)) ## then check it if it's primal or not\n",
    "# i = 0\n",
    "# result = []\n",
    "# while(i < 5):\n",
    "#     new_numbers = FermatFactors(fermat_number)\n",
    "#     result.append(new_numbers[1])\n",
    "#     fermat_number = int(new_numbers[0])\n",
    "#     print(new_numbers)\n",
    "#     i = i + 1\n",
    "# print(isPrimeNumber(87257))#[704569, 704681]\n",
    "# print(87257*87433*(7**4))"
   ]
  },
  {
   "cell_type": "markdown",
   "id": "52297d67",
   "metadata": {},
   "source": [
    "# Index Coincidence\n",
    "<div>\n",
    "<img alt=\"C08_slide-4\" src=\"index-coincidence.jpg\" width = 300>\n",
    "</div>"
   ]
  },
  {
   "cell_type": "code",
   "execution_count": 26,
   "id": "c0fe866c",
   "metadata": {},
   "outputs": [
    {
     "name": "stdout",
     "output_type": "stream",
     "text": [
      "Length of message - 100\n",
      "IC - 2.143030303030303\n"
     ]
    },
    {
     "data": {
      "text/plain": [
       "0.8238387379491674"
      ]
     },
     "execution_count": 26,
     "metadata": {},
     "output_type": "execute_result"
    }
   ],
   "source": [
    "import string\n",
    "#st = \"VERRC AISEF ULYWA DMENL YOSOR THECA NORTH ECOND GLNYW HANGB UNTOS SOOSE COUDG BEDYE RYSTH EDALT IEANL ORDTH WESTU NITHA\"\n",
    "st = \"RGUVK GHWDO WKGSH WLDRK GWKGI WDDWK GLHWD HUQHU QXOQH DBXUQ GHWLQ WHZJL PRIFH WDHIH VLHOO XDPHW DHDVK GOHKG LHDDR FHDWD\"\n",
    "ot = 1.94\n",
    "N = len(st.replace(\" \", \"\").strip()) ##length of message\n",
    "print(f\"Length of message - {N}\")\n",
    "alphabet = string.ascii_lowercase\n",
    "frequency_sum = 0\n",
    "st = st.lower()\n",
    "for letter in alphabet:\n",
    "    frequency = st.count(letter)\n",
    "    #print(f\"{letter}:{frequency}\")\n",
    "    frequency_sum +=(frequency * (frequency-1))\n",
    "#print(frequency_sum)\n",
    "ic = (26/(N*(N-1))) * frequency_sum\n",
    "print(f\"IC - {ic}\")\n",
    "D = N*(ot-1)/((N-1)*ic+ot-N)\n",
    "D # round |<-|"
   ]
  },
  {
   "cell_type": "markdown",
   "id": "2ac076d8",
   "metadata": {},
   "source": [
    "#  Pollard Rho Metoda"
   ]
  },
  {
   "cell_type": "code",
   "execution_count": 24,
   "id": "4132d25f",
   "metadata": {},
   "outputs": [],
   "source": [
    "#from fractions import gcd\n",
    "#backup - https://www.geeksforgeeks.org/pollards-rho-algorithm-prime-factorization/\n",
    "def pollard_rho(n, seed=2, f=lambda x: x**2 - 1): ##https://gist.github.com/thomdixon/dd1e280681f16535fbf1\n",
    "   x, y, d = seed, seed, 1\n",
    "   while d == 1:\n",
    "    x = f(x) % n\n",
    "    y = f(f(y)) % n\n",
    "    #print(x) - to get {x_i}\n",
    "    #print(y) \n",
    "    d = gcd((x - y) % n, n)\n",
    "   if d != n:\n",
    "    return d\n"
   ]
  },
  {
   "cell_type": "code",
   "execution_count": 25,
   "id": "730d0240",
   "metadata": {},
   "outputs": [
    {
     "name": "stdout",
     "output_type": "stream",
     "text": [
      "31\n",
      "Rozklad 44857: 31 * 1447\n"
     ]
    }
   ],
   "source": [
    "number = 44857 \n",
    "seed = 3\n",
    "d = pollard_rho(number, seed)\n",
    "print(d)\n",
    "print(f\"Rozklad {number}: {d} * {number // d}\")"
   ]
  },
  {
   "cell_type": "markdown",
   "id": "79e8976c",
   "metadata": {},
   "source": [
    "#  EC ( Elepticka krivka)  P_08-slide25\n",
    "## Calculators\n",
    "https://andrea.corbellini.name/ecc/interactive/modk-add.html - calculations\n",
    "\n",
    "\n",
    "http://www.christelbach.com/ECCalculator.aspx -better for lezi/nelezi\n",
    "\n",
    "https://www.desmos.com/calculator/ialhd71we3?lang=ru - no need to use \n"
   ]
  },
  {
   "cell_type": "markdown",
   "id": "84286d38",
   "metadata": {},
   "source": [
    "#  EC nad polem F(2**n) P_08-slide47\n",
    "###### mod 7"
   ]
  },
  {
   "cell_type": "code",
   "execution_count": 76,
   "id": "69ce28ad",
   "metadata": {},
   "outputs": [
    {
     "name": "stdout",
     "output_type": "stream",
     "text": [
      "Infromace: \n",
      "x^4 + x + 1\n",
      "[ 2,  3,  4,  5,  9, 11, 13, 14]\n",
      "g_0:1\n",
      "g_1:x^2\n",
      "g_2:x^3 + 1\n",
      "g_3:x^3 + x^2 + x + 1\n",
      "g_4:x^3 + x^2 + x\n",
      "g_5:x^3 + x\n",
      "g_6:x + 1\n",
      "g_7:x^3 + x^2\n",
      "g_8:x\n",
      "g_9:x^3\n",
      "g_10:x^3 + x + 1\n",
      "g_11:x^2 + x + 1\n",
      "g_12:x^2 + 1\n",
      "g_13:x^3 + x^2 + 1\n",
      "g_14:x^2 + x\n",
      "g_15:1\n"
     ]
    }
   ],
   "source": [
    "import galois\n",
    "##Zjistite vsehny genetaroty multoplikativni grupy pole GF(2**3)\n",
    "## INIT \n",
    "values = {}\n",
    "GF = galois.GF(2**4)\n",
    "print(\"Infromace: \")\n",
    "print(GF.irreducible_poly)\n",
    "print(GF.primitive_elements) ## generatory\n",
    "g = galois.Poly.Str(\"x^2\", field=GF)\n",
    "mod = galois.Poly.Str(\"x^4 + x^3+ 1\", field= GF) ## check irreducible polynom\n",
    "for i in range(2**4):\n",
    "    print(f\"g_{i}:{(g**i)%mod}\")\n",
    "    values[f\"{(g**i)%mod}\"] = f\"g_{i}\"\n",
    "values[\"0\"] = \"0\"\n",
    "#GF = galois.GF(29)\n",
    "#print(GF.primitive_elements) #display repr_table\n"
   ]
  },
  {
   "cell_type": "code",
   "execution_count": 82,
   "id": "91fc7be5",
   "metadata": {},
   "outputs": [
    {
     "data": {
      "text/plain": [
       "Poly(x^3 + x, GF(2^4))"
      ]
     },
     "execution_count": 82,
     "metadata": {},
     "output_type": "execute_result"
    }
   ],
   "source": [
    "#Place to count and check\n",
    "#mod = galois.Poly.Str(\"x^ + x^3+ 1\", field= GF) \n",
    "#mod = GF.irreducible_poly\n",
    "#g_00 = galois.Poly([0,0,0], field=GF)\n",
    "#g_0 = galois.Poly([0,0,1], field=GF)\n",
    "#g_1 = galois.Poly([0,1,0], field=GF)\n",
    "#g_2 = galois.Poly([1,0,0], field=GF)\n",
    "#g_3 = galois.Poly([0,1,1], field=GF)\n",
    "#g_4 = galois.Poly([1,1,0], field=GF)\n",
    "#g_5 = galois.Poly([1,1,1], field=GF)\n",
    "#g_6 = galois.Poly([1,0,1], field=GF)\n",
    "#g_7 = galois.Poly([0,0,1], field=GF)\n",
    "###\n",
    "#f = galois.Poly([0,0,1], field=GF)\n",
    "#g = galois.Poly([1,1,0], field=GF)\n",
    "##(f+g) % mod\n",
    "g_3 = galois.Poly([1,1,1,1], field=GF)\n",
    "g_5 = galois.Poly([1,0,1,0], field=GF)\n",
    "\n",
    "p_x = galois.Poly([0,1,0,1], field=GF)\n",
    "p_y = galois.Poly([1,1,0,1], field=GF)\n",
    "x = galois.Poly([1,1,1,1], field=GF)\n",
    "y = galois.Poly([1,0,0,0], field=GF)\n",
    "\n",
    "##  Place to calculate lezi/nelezi $$g_5\n",
    "(x**3 + x**2 * g_3 + g_5)%mod "
   ]
  },
  {
   "cell_type": "markdown",
   "id": "6bdaf135",
   "metadata": {},
   "source": [
    "## Soucet dvou bodu \n",
    "\n",
    "<div>\n",
    "    <img alt=\"P08_slide51\" src=\"ec-sum-of-points.jpg\" width=300\">\n",
    "</div>\n",
    "                                                                "
   ]
  },
  {
   "cell_type": "code",
   "execution_count": 83,
   "id": "330129cd",
   "metadata": {
    "scrolled": true
   },
   "outputs": [
    {
     "name": "stdout",
     "output_type": "stream",
     "text": [
      "S := x^3 + x^2\n",
      "R point := R(x^3 + x^2 + x + 1, x^2 + x + 1)\n",
      "R point := R(g_3, g_11)\n"
     ]
    }
   ],
   "source": [
    "#P=(x_p, y_p)\n",
    "#Q=(x_q, y_q)\n",
    "# alpha = alpha\n",
    "P = (p_x, p_y)\n",
    "Q = (x, y)\n",
    "alpha = g_3\n",
    "s =  ((P[1] + Q[1]) * galois.egcd(P[0] + Q[0], mod)[1]) % mod\n",
    "print(f\"S := {s}\")\n",
    "x_r = (s**2 + s +P[0] + Q[0] + alpha) % mod\n",
    "y_r = (s*(P[0]+x_r)+x_r+P[1]) % mod \n",
    "print(f\"R point := R({x_r}, {y_r})\")\n",
    "print(f\"R point := R({values[f'{x_r}']}, {values[f'{y_r}']})\")"
   ]
  },
  {
   "cell_type": "markdown",
   "id": "9943e080",
   "metadata": {},
   "source": [
    "## Zdvojení bodu na EC\n",
    "<div>\n",
    "    <img alt=\"P08_slide52\" src=\"ec-multiplication.jpg\" width=300\">  \n",
    "</div>"
   ]
  },
  {
   "cell_type": "code",
   "execution_count": 124,
   "id": "8b1d47d9",
   "metadata": {},
   "outputs": [
    {
     "name": "stdout",
     "output_type": "stream",
     "text": [
      "S := x\n",
      "R point := R(x, x^2 + x + 1)\n",
      "R point := R(g_1, g_4)\n"
     ]
    }
   ],
   "source": [
    "#P=(x_p, y_p)\n",
    "# alpha = alpha\n",
    "P = (x, y)\n",
    "alpha = g_2\n",
    "s =  (P[0] + P[1] * galois.egcd(P[0], mod)[1]) % mod\n",
    "print(f\"S := {s}\")\n",
    "x_r = (s**2 + s + alpha) % mod\n",
    "y_r = (P[0]**2 + x_r*(s+g_0)) % mod \n",
    "print(f\"R point := R({x_r}, {y_r})\")\n",
    "print(f\"R point := R({values[f'{x_r}']}, {values[f'{y_r}']})\")"
   ]
  },
  {
   "cell_type": "markdown",
   "id": "7a730158",
   "metadata": {},
   "source": [
    "# Shamir protokol P10_slide-14-15"
   ]
  },
  {
   "cell_type": "markdown",
   "id": "8d97fe58",
   "metadata": {},
   "source": [
    "[Calculator](https://www.wolframalpha.com/input?i=interpolating+polynomial+calculator&assumption=%7B%22F%22%2C+%22InterpolatingPolynomialCalculator%22%2C+%22data%22%7D+-%3E%22%7B1%2C+4%2C+9%2C+16%7D%22&assumption=%7B%22FVarOpt%22%7D+-%3E+%7B%7B%22InterpolatingPolynomialCalculator%22%2C+%22data2%22%7D%7D)\n",
    "\n",
    "[Calculator2](https://www.dcode.fr/lagrange-interpolating-polynomial)"
   ]
  },
  {
   "cell_type": "code",
   "execution_count": 75,
   "id": "348f683c",
   "metadata": {},
   "outputs": [
    {
     "name": "stdout",
     "output_type": "stream",
     "text": [
      "42\n"
     ]
    }
   ],
   "source": [
    "## a*x = b (mod p) \n",
    "## b^-1 = 1/b\n",
    "##x = a/b =  a*b^-1\n",
    "##8/23 = 23*k=8(mod p) 315/296 = 296 * k = 315\n",
    "a = 65 ## jmenovatel\n",
    "b = 3 ## citatel\n",
    "p = 101\n",
    "for x in range(100):\n",
    "    if ((a * x) % p) == b:\n",
    "        print(x)"
   ]
  },
  {
   "cell_type": "code",
   "execution_count": 67,
   "id": "2fb8f9e1",
   "metadata": {
    "scrolled": true
   },
   "outputs": [
    {
     "name": "stdout",
     "output_type": "stream",
     "text": [
      "p: 997\n"
     ]
    },
    {
     "data": {
      "text/plain": [
       "296"
      ]
     },
     "execution_count": 67,
     "metadata": {},
     "output_type": "execute_result"
    }
   ],
   "source": [
    "#DON'T FORGET TO CHANGE P\n",
    "## a % p\n",
    "print(\"p:\", p)\n",
    "147852 % p"
   ]
  },
  {
   "cell_type": "code",
   "execution_count": 69,
   "id": "2c09cec0",
   "metadata": {},
   "outputs": [
    {
     "data": {
      "text/plain": [
       "451"
      ]
     },
     "execution_count": 69,
     "metadata": {},
     "output_type": "execute_result"
    }
   ],
   "source": [
    "# -a % p \n",
    "- 546% p"
   ]
  },
  {
   "cell_type": "code",
   "execution_count": 71,
   "id": "2c8f7c02",
   "metadata": {},
   "outputs": [
    {
     "data": {
      "text/plain": [
       "451"
      ]
     },
     "execution_count": 71,
     "metadata": {},
     "output_type": "execute_result"
    }
   ],
   "source": [
    "# 31 - 40 mod p  x udelej 0 aby dostat S\n",
    "(451)% p"
   ]
  },
  {
   "cell_type": "code",
   "execution_count": 21,
   "id": "51a849a7",
   "metadata": {},
   "outputs": [
    {
     "name": "stdout",
     "output_type": "stream",
     "text": [
      "0 10\n",
      "1 3\n",
      "2 9\n",
      "3 2\n",
      "4 8\n",
      "5 1\n",
      "6 7\n",
      "7 0\n",
      "8 6\n",
      "9 12\n",
      "10 5\n",
      "11 11\n"
     ]
    }
   ],
   "source": [
    "x = 0\n",
    "for x in range(12):\n",
    "    y = (10+6*x)%p\n",
    "    print(x, y)"
   ]
  },
  {
   "cell_type": "markdown",
   "id": "209a0bb1",
   "metadata": {},
   "source": [
    "# ElGamal P_08-slide 25"
   ]
  },
  {
   "cell_type": "code",
   "execution_count": 31,
   "id": "b72c9b16",
   "metadata": {},
   "outputs": [
    {
     "name": "stdout",
     "output_type": "stream",
     "text": [
      "Desifrovani m = 2718\n",
      "Sifrovany text je (42165, 7589)\n"
     ]
    }
   ],
   "source": [
    "##Desifrovani\n",
    "P = (43271,22497,11861) #(p,z,a)\n",
    "S = (29306,32238) # (c,d)\n",
    "p, z, a   = P[0],P[1],P[2] \n",
    "c, d = S[0], S[1]\n",
    "tmp = pow(c,p-1-a,p)\n",
    "m = (tmp*d) % p\n",
    "print(\"Desifrovani m =\", m)\n",
    "## Sifrovani\n",
    "m = 5551\n",
    "k = 7512\n",
    "c = pow(z,k,p)\n",
    "d = (m*pow(a,k,p))%p\n",
    "ST = (c,d)\n",
    "print(\"Sifrovany text je\", ST)"
   ]
  },
  {
   "cell_type": "markdown",
   "id": "171a6500",
   "metadata": {},
   "source": [
    "# RSA\n",
    "\n",
    "#### Verejny klic(n,e) Soukromy klic(n,d)"
   ]
  },
  {
   "cell_type": "code",
   "execution_count": 37,
   "id": "033568c6",
   "metadata": {},
   "outputs": [
    {
     "name": "stdout",
     "output_type": "stream",
     "text": [
      "M := 40847\n",
      "C := 2721\n"
     ]
    }
   ],
   "source": [
    "import random\n",
    "import math\n",
    "input = (46129, 18341) #(n,e)\n",
    "n , e = input[0], input[1]\n",
    "primes = [i for i in range(0,n-1) if isPrimeNumber(i)]\n",
    "m = random.choice(primes)\n",
    "print(f\"M := {m}\")\n",
    "c = pow(m,e,n)\n",
    "print(f\"C := {c}\")\n",
    "# d = 0;\n",
    "# while(True):\n",
    "#     if m == pow(c,d,n):\n",
    "#         break;\n",
    "#     d = d+1\n"
   ]
  },
  {
   "cell_type": "code",
   "execution_count": 48,
   "id": "23706c4f",
   "metadata": {},
   "outputs": [
    {
     "name": "stdout",
     "output_type": "stream",
     "text": [
      "[163, 283]\n",
      "D:= 36737\n",
      "M:=33337 -> 33337 for d = 36737\n"
     ]
    }
   ],
   "source": [
    "F = FermatFactors(n)\n",
    "print(F)\n",
    "p = F[0] if isPrimeNumber(F[0]) else print(\"error\")\n",
    "q = F[1] if isPrimeNumber(F[1]) else print(\"error\")\n",
    "pi = (p-1)*(q-1)\n",
    "r = lambda e,pi: ((e-1)*pow(pi,e-2,e))%e\n",
    "#print(isPrimeNumber(e))\n",
    "d = (1+r(e,pi)*pi)//e if isPrimeNumber(e) else pi + gcdExtended(pi,e)[2]\n",
    "print(\"D:=\",d)\n",
    "print(f\"M:={m} -> {pow(c,d,n)} for d = {d}\") "
   ]
  },
  {
   "cell_type": "code",
   "execution_count": 47,
   "id": "167e9e1a",
   "metadata": {},
   "outputs": [
    {
     "name": "stdout",
     "output_type": "stream",
     "text": [
      "9594 36737 46129\n"
     ]
    },
    {
     "data": {
      "text/plain": [
       "33337"
      ]
     },
     "execution_count": 47,
     "metadata": {},
     "output_type": "execute_result"
    }
   ],
   "source": [
    "# m = c^d mod n\n",
    "#n = 44197\n",
    "c = 9594\n",
    "#d = 29275\n",
    "print(c,d,n)\n",
    "m = pow(c, d , n)\n",
    "m"
   ]
  },
  {
   "cell_type": "markdown",
   "id": "b18f8d7f",
   "metadata": {},
   "source": [
    "# Testy P11-slide25"
   ]
  },
  {
   "cell_type": "markdown",
   "id": "bc26fe29",
   "metadata": {},
   "source": [
    "## Test Frekvence"
   ]
  },
  {
   "cell_type": "code",
   "execution_count": 193,
   "id": "318e9534",
   "metadata": {},
   "outputs": [
    {
     "name": "stdout",
     "output_type": "stream",
     "text": [
      "120\n",
      "-1.8257418583505538\n"
     ]
    }
   ],
   "source": [
    "import math\n",
    "posloupnost = \"01 01 00 01 01 00 00 11 00 11 01 00 00 11 00 11 01 00 01 10  01 01 10 00 01 00 01 01 00 11 01 10 01 00 10 10 01 01 01 11 01 00 11 10 00 11 00 00 00 11 01 00 00 11 01 10 01 01 01 00\"\n",
    "bit = \"1\"\n",
    "F = posloupnost.count(bit)\n",
    "M = len(posloupnost.replace(\" \",\"\"))\n",
    "print(M)\n",
    "S = (2*F-M)/math.sqrt(M)\n",
    "print(S) # < 1.96 Hypoteza-nezamitnuta"
   ]
  },
  {
   "cell_type": "markdown",
   "id": "46ef9bad",
   "metadata": {},
   "source": [
    "## Poker test"
   ]
  },
  {
   "cell_type": "code",
   "execution_count": 197,
   "id": "9ddd827d",
   "metadata": {},
   "outputs": [
    {
     "name": "stdout",
     "output_type": "stream",
     "text": [
      "0:20\n",
      "1:23\n",
      "2:7\n",
      "3:10\n",
      "838.0\n"
     ]
    },
    {
     "data": {
      "text/plain": [
       "55.86666666666667"
      ]
     },
     "execution_count": 197,
     "metadata": {},
     "output_type": "execute_result"
    }
   ],
   "source": [
    "K = 2\n",
    "P =M/K\n",
    "tmp = 0\n",
    "counting = {0:\"00\",\n",
    "           1:\"01\",\n",
    "           2:\"10\",\n",
    "           3:\"11\"}\n",
    "for i in range(2**K):\n",
    "    F = posloupnost.count(counting[i])\n",
    "    print(f\"{i}:{F}\")\n",
    "    tmp = tmp + F**2 - P\n",
    "print(tmp)\n",
    "S = (2**K / P) * tmp\n",
    "S"
   ]
  },
  {
   "cell_type": "code",
   "execution_count": null,
   "id": "233d8a58",
   "metadata": {},
   "outputs": [],
   "source": []
  }
 ],
 "metadata": {
  "kernelspec": {
   "display_name": "Python 3 (ipykernel)",
   "language": "python",
   "name": "python3"
  },
  "language_info": {
   "codemirror_mode": {
    "name": "ipython",
    "version": 3
   },
   "file_extension": ".py",
   "mimetype": "text/x-python",
   "name": "python",
   "nbconvert_exporter": "python",
   "pygments_lexer": "ipython3",
   "version": "3.9.6"
  }
 },
 "nbformat": 4,
 "nbformat_minor": 5
}
